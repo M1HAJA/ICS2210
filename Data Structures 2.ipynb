{
 "cells": [
  {
   "cell_type": "code",
   "execution_count": 1,
   "id": "3c7eea18",
   "metadata": {},
   "outputs": [],
   "source": [
    "import random"
   ]
  },
  {
   "cell_type": "code",
   "execution_count": 2,
   "id": "753c58ec",
   "metadata": {},
   "outputs": [],
   "source": [
    "def fillSetX():\n",
    "    p = random.randint(1000,3000)\n",
    "    #print(p)\n",
    "\n",
    "    X = set()\n",
    "    #print(X)\n",
    "\n",
    "    for i in range(p):\n",
    "        num = random.randint(-3000,3000)\n",
    "\n",
    "        while num in X:\n",
    "            num = random.randint(-3000,3000)\n",
    "\n",
    "        if num not in X:\n",
    "            X.add(num)\n",
    "\n",
    "    #print(X)\n",
    "    print(\"Set X contains\",p,\"integers.\")\n",
    "    return X"
   ]
  },
  {
   "cell_type": "code",
   "execution_count": 3,
   "id": "f13f8c31",
   "metadata": {},
   "outputs": [],
   "source": [
    "def fillSetY():\n",
    "    q = random.randint(500,1000)\n",
    "    #print(q)\n",
    "\n",
    "    Y = set()\n",
    "    #print(Y)\n",
    "\n",
    "    for i in range(q):\n",
    "        num = random.randint(-3000,3000)\n",
    "\n",
    "        while num in Y:\n",
    "            num = random.randint(-3000,3000)\n",
    "\n",
    "        if num not in Y:\n",
    "            Y.add(num)\n",
    "\n",
    "    #print(Y)\n",
    "    print(\"Set Y contains\",q,\"integers.\")\n",
    "    return Y"
   ]
  },
  {
   "cell_type": "code",
   "execution_count": 4,
   "id": "45feea0b",
   "metadata": {},
   "outputs": [],
   "source": [
    "def fillSetZ():\n",
    "    r = random.randint(500,1000)\n",
    "    #print(r)\n",
    "\n",
    "    Z = set()\n",
    "    #print(Z)\n",
    "\n",
    "    for i in range(r):\n",
    "        num = random.randint(-3000,3000)\n",
    "\n",
    "        while num in Z:\n",
    "            num = random.randint(-3000,3000)\n",
    "\n",
    "        if num not in Z:\n",
    "            Z.add(num)\n",
    "\n",
    "    #print(Z)\n",
    "    print(\"Set Z contains\",r,\"integers.\")\n",
    "    return Z"
   ]
  },
  {
   "cell_type": "code",
   "execution_count": 5,
   "id": "066d57df",
   "metadata": {},
   "outputs": [],
   "source": [
    "def CalcIntersections(set1,set2):\n",
    "    intersection= set1.intersection(set2) \n",
    "    return intersection"
   ]
  },
  {
   "cell_type": "code",
   "execution_count": 6,
   "id": "dc7c708b",
   "metadata": {},
   "outputs": [],
   "source": [
    "def AVL_Tree_Insertion(setX):\n",
    "    print(\"Hello\")"
   ]
  },
  {
   "cell_type": "code",
   "execution_count": 7,
   "id": "1487a263",
   "metadata": {},
   "outputs": [
    {
     "name": "stdout",
     "output_type": "stream",
     "text": [
      "Set X contains 1545 integers.\n",
      "Set Y contains 535 integers.\n",
      "Set Z contains 831 integers.\n",
      "Sets X and Y have 131 values in common.\n",
      "Sets X and Z have 197 values in common.\n"
     ]
    }
   ],
   "source": [
    "#main cell\n",
    "X = fillSetX()\n",
    "Y = fillSetY()\n",
    "Z = fillSetZ()\n",
    "\n",
    "intersectionXY = CalcIntersections(X,Y)\n",
    "intersectionXZ = CalcIntersections(X,Z)\n",
    "\n",
    "print(\"Sets X and Y have\",(len(intersectionXY)),\"values in common.\")\n",
    "print(\"Sets X and Z have\",(len(intersectionXZ)),\"values in common.\")\n"
   ]
  }
 ],
 "metadata": {
  "kernelspec": {
   "display_name": "Python 3 (ipykernel)",
   "language": "python",
   "name": "python3"
  },
  "language_info": {
   "codemirror_mode": {
    "name": "ipython",
    "version": 3
   },
   "file_extension": ".py",
   "mimetype": "text/x-python",
   "name": "python",
   "nbconvert_exporter": "python",
   "pygments_lexer": "ipython3",
   "version": "3.9.13"
  }
 },
 "nbformat": 4,
 "nbformat_minor": 5
}
